{
 "cells": [
  {
   "cell_type": "code",
   "execution_count": 1,
   "metadata": {},
   "outputs": [],
   "source": [
    "import numpy as np\n",
    "import pandas as pd\n",
    "\n",
    "from scipy.stats import chi2_contingency,ttest_ind\n",
    "from scipy import stats\n",
    "from sklearn.model_selection import train_test_split, KFold\n",
    "from sklearn.metrics import auc, roc_curve\n",
    "import matplotlib.pyplot as plt\n",
    "import matplotlib\n",
    "matplotlib.rcParams['font.sans-serif'] = ['FangSong'] # 指定默认字体\n",
    "matplotlib.rcParams['axes.unicode_minus'] = False # 解决保存图像是负号'-'显示为方块的问题\n",
    "\n",
    "import statsmodels.api as sm\n",
    "from sklearn.linear_model import LogisticRegression\n",
    "from sklearn import svm\n",
    "from sklearn import ensemble\n",
    "\n",
    "data1 = pd.read_excel(\"C:/Users/Ca1/Desktop/papers/Nocturnal_hypertension by C/data1.xlsx\")\n",
    "data2 = pd.read_excel(\"C:/Users/Ca1/Desktop/papers/Nocturnal_hypertension by C/data2.xlsx\")"
   ]
  },
  {
   "cell_type": "code",
   "execution_count": 2,
   "metadata": {
    "scrolled": true
   },
   "outputs": [
    {
     "name": "stderr",
     "output_type": "stream",
     "text": [
      "d:\\ProgramData\\Anaconda3\\lib\\site-packages\\ipykernel_launcher.py:4: FutureWarning: Sorting because non-concatenation axis is not aligned. A future version\n",
      "of pandas will change to not sort by default.\n",
      "\n",
      "To accept the future behavior, pass 'sort=True'.\n",
      "\n",
      "To retain the current behavior and silence the warning, pass sort=False\n",
      "\n",
      "  after removing the cwd from sys.path.\n"
     ]
    }
   ],
   "source": [
    "data1.rename(columns = {'β2-微球蛋白':'B2-微球蛋白','吸烟(0否1是）':'吸烟0否1是','夜间尿量ml':'夜间尿量ml/24H'\n",
    "                        ,'白天尿量ml':'白天尿量ml/24H','24h-DBP':'24hDBP','是否应用降压药':'是否用降压药','身高':'身高cm'}, inplace = True)\n",
    "col = data1.columns\n",
    "data = pd.concat([data1, data2],ignore_index=True)[col]\n",
    "data=data.drop(data.index[data[data['夜间SBP'] == '夜间数据'].index])#“无”字被去掉了\n",
    "data=data.drop(data.index[data[data['夜间SBP'] == '夜间有效值不足'].index])#删除五例’夜间SBP’ 无法判断的\n",
    "data['nocturnal_hypertension'] = (data['夜间SBP']>=120) | (data['夜间DBP']>=70)\n",
    "data['daytime_hypertension'] = (data['白天SBP'] >=135) | (data['白天DBP']>=85)\n",
    "data['NH_continuous'] = data['nocturnal_hypertension'] & data['daytime_hypertension']\n",
    "data['NH_onlynight'] = data['nocturnal_hypertension'] &(~data['daytime_hypertension'])\n",
    "\n",
    "data.replace({'无':np.nan}, inplace = True)\n",
    "data.replace({'未查':np.nan}, inplace = True)\n",
    "data.replace({'':np.nan}, inplace = True)\n",
    "data.replace({' ':np.nan}, inplace = True)\n",
    "data['24h-平均压'].replace({'94..9':94.9}, inplace = True)#数据（三）\n",
    "data['同型半胱氨酸'].replace({'>50':60},inplace = True)#同型半胱氨>50 记为整型60\n",
    "data['C反应蛋白'].replace({'<0.499':0.01},inplace = True)\n",
    "data['甘油三酯'].replace({'（外院行检查后拒绝再次检查）':np.nan},inplace = True)\n",
    "data['尿蛋白/肌酐(mg/g)'].replace({'未查（月经期）':np.nan},inplace = True)\n",
    "data['24H尿蛋白mg'].replace({'未查':np.nan,'21286.4mg':21286.4,'10397.04':10397.04},inplace = True)\n",
    "data['空腹血糖'].replace({34.4:4.4, 44.9:4.9}, inplace = True)\n",
    "data = data.drop(data[data['是否用降压药'] == 10].index)\n",
    "data = data.drop(data[data['CCB'] == 2].index)\n",
    "\n",
    "data.rename(columns = {'姓名':'Name','编号':'No.','性别（1男2女）':'Male','年龄':'Age,y','BMI':'BMI,kg/m2','吸烟0否1是':'Smoker'\n",
    "                       ,'饮酒':'Alcohol intake','糖尿病':'Diabetes mellitus','高血压':'Hypertension','高脂血症':'Hyperlipidemia'\n",
    "                       ,'高血压家族史':'Hypertension family history','CVD既往史':'CVD history','是否用降压药':'Antihypertension drugs'\n",
    "                       ,'RAAS药':'RAAS drugs intake','nRAAS药':'nRAAS drugs intake','24H尿蛋白mg':'Proteinuria,mg/24h'\n",
    "                       ,'HGB':'Hemoglobin,g/L','尿素氮':'BUN,mmol/L','肌酐':'Scr,mmol/L','尿酸':'Uric acid,mmol/L'\n",
    "                       ,'空腹血糖':'FBG,mmol/L','甘油三酯':'Triglyceride,mmol/L','胆固醇':'Cholesterol,mmol/L','高密度脂蛋白':'HDL-C,mmol/L'\n",
    "                       ,'低密度脂蛋白':'LDL-C,mmol/L','白蛋白':'Serum albumin,g/L','Na':'Serum sodium,mmol/L','CA':'Serum calcium,mmol/L'\n",
    "                       ,'P':'Serum phosphate,mmol/L','B2-微球蛋白':'β2-MG,ug/mL','甲状旁腺素（pg/ml）':'iPTH,pg/mL'\n",
    "                       ,'同型半胱氨酸':'Homocysteine,umol/L','GFR-EPI':'eGFR,mL/ (min·1.73 m2)'\n",
    "                       ,'诊室SBP':'Clinic SBP,mmHg','诊室DBP':'Clinic DBP,mmHg'},inplace = True)\n",
    "\n",
    "data = data[['Name','No.','Male','Age,y','BMI,kg/m2','Smoker','Alcohol intake','Diabetes mellitus','Hypertension','Hyperlipidemia'\n",
    ",'Hypertension family history','CVD history','Antihypertension drugs','RAAS drugs intake','nRAAS drugs intake'\n",
    ",'Proteinuria,mg/24h','Hemoglobin,g/L','BUN,mmol/L','Scr,mmol/L','Uric acid,mmol/L','FBG,mmol/L','Triglyceride,mmol/L'\n",
    ",'Cholesterol,mmol/L','HDL-C,mmol/L','LDL-C,mmol/L','Serum albumin,g/L','Serum sodium,mmol/L','Serum calcium,mmol/L'\n",
    ",'Serum phosphate,mmol/L','β2-MG,ug/mL','iPTH,pg/mL','Homocysteine,umol/L','eGFR,mL/ (min·1.73 m2)'\n",
    ",'Clinic SBP,mmHg','Clinic DBP,mmHg','nocturnal_hypertension']]\n"
   ]
  },
  {
   "cell_type": "code",
   "execution_count": 4,
   "metadata": {
    "scrolled": false
   },
   "outputs": [],
   "source": [
    "dataplot = data[['Male','Age,y','BMI,kg/m2','Smoker','Alcohol intake','Diabetes mellitus','Hypertension','Hyperlipidemia'\n",
    ",'Hypertension family history','CVD history','Antihypertension drugs','RAAS drugs intake','nRAAS drugs intake'\n",
    ",'Proteinuria,mg/24h','Hemoglobin,g/L','BUN,mmol/L','Scr,mmol/L','Uric acid,mmol/L','FBG,mmol/L','Triglyceride,mmol/L'\n",
    ",'Cholesterol,mmol/L','HDL-C,mmol/L','LDL-C,mmol/L','Serum albumin,g/L','Serum sodium,mmol/L','Serum calcium,mmol/L'\n",
    ",'Serum phosphate,mmol/L','β2-MG,ug/mL','iPTH,pg/mL','Homocysteine,umol/L','eGFR,mL/ (min·1.73 m2)'\n",
    ",'Clinic SBP,mmHg','Clinic DBP,mmHg','nocturnal_hypertension']]\n",
    "\n",
    "dummy_col = [col for col in dataplot.columns if len(dataplot[col].unique()) < 5]\n",
    "float_col = [col for col in dataplot.columns if col not in dummy_col]\n",
    "\n",
    "# for col in float_col:\n",
    "#     f,ax=plt.subplots(1,2,figsize=(12,5)) \n",
    "#     ax[0].boxplot(x=dataplot.loc[dataplot[col].isnull() == False,col].values)\n",
    "#     #columns列索引，values所有数值\n",
    "#     ax[0].grid()\n",
    "#     bins = np.linspace(min(dataplot[col].values),max(dataplot[col].values),20)\n",
    "#     ax[1].hist(dataplot[col].values,bins)\n",
    "#     ax[1].grid()\n",
    "#     plt.xlabel(col,fontsize=15)\n",
    "#     fig = plt.gcf() #需要先获取，才能savefig\n",
    "#     plt.show()"
   ]
  },
  {
   "cell_type": "code",
   "execution_count": 5,
   "metadata": {
    "scrolled": true
   },
   "outputs": [],
   "source": [
    "dummy_col = [col for col in dataplot.columns if len(dataplot[col].unique()) < 5]\n",
    "float_col = [col for col in dataplot.columns if col not in dummy_col]\n",
    "for col in float_col:\n",
    "    data.loc[data[col]>data[col].mean()+3*data[col].std(),col] = np.nan\n",
    "data=data.fillna(data.mean())\n",
    "# data[float_col].describe()"
   ]
  },
  {
   "cell_type": "code",
   "execution_count": 6,
   "metadata": {},
   "outputs": [],
   "source": [
    "dataplot = data[['Male','Age,y','BMI,kg/m2','Smoker','Alcohol intake','Diabetes mellitus','Hypertension','Hyperlipidemia'\n",
    ",'Hypertension family history','CVD history','Antihypertension drugs','RAAS drugs intake','nRAAS drugs intake'\n",
    ",'Proteinuria,mg/24h','Hemoglobin,g/L','BUN,mmol/L','Scr,mmol/L','Uric acid,mmol/L','FBG,mmol/L','Triglyceride,mmol/L'\n",
    ",'Cholesterol,mmol/L','HDL-C,mmol/L','LDL-C,mmol/L','Serum albumin,g/L','Serum sodium,mmol/L','Serum calcium,mmol/L'\n",
    ",'Serum phosphate,mmol/L','β2-MG,ug/mL','iPTH,pg/mL','Homocysteine,umol/L','eGFR,mL/ (min·1.73 m2)'\n",
    ",'Clinic SBP,mmHg','Clinic DBP,mmHg','nocturnal_hypertension']]\n",
    "\n",
    "# dataplot.info()\n",
    "# dummy_col = [col for col in dataplot.columns if len(dataplot[col].unique()) < 5]\n",
    "# float_col = [col for col in dataplot.columns if col not in dummy_col]\n",
    "# for col in float_col:\n",
    "#     f,ax=plt.subplots(1,2,figsize=(12,5)) \n",
    "#     ax[0].boxplot(x=dataplot.loc[dataplot[col].isnull() == False,col].values)\n",
    "#     #columns列索引，values所有数值\n",
    "#     ax[0].grid()\n",
    "#     bins = np.linspace(min(dataplot[col].values),max(dataplot[col].values),20)\n",
    "#     ax[1].hist(dataplot[col].values,bins)\n",
    "#     ax[1].grid()\n",
    "#     plt.xlabel(col,fontsize=15)\n",
    "#     fig = plt.gcf() #需要先获取，才能savefig\n",
    "#     plt.show()"
   ]
  },
  {
   "cell_type": "code",
   "execution_count": 7,
   "metadata": {
    "scrolled": true
   },
   "outputs": [],
   "source": [
    "data.to_csv('C:/Users/Ca1/Desktop/papers/Nocturnal_hypertension by C//data_continuous_gbk_20201211.csv', encoding= 'gbk', index ='False')"
   ]
  }
 ],
 "metadata": {
  "kernelspec": {
   "display_name": "Python 3",
   "language": "python",
   "name": "python3"
  },
  "language_info": {
   "codemirror_mode": {
    "name": "ipython",
    "version": 3
   },
   "file_extension": ".py",
   "mimetype": "text/x-python",
   "name": "python",
   "nbconvert_exporter": "python",
   "pygments_lexer": "ipython3",
   "version": "3.6.5"
  }
 },
 "nbformat": 4,
 "nbformat_minor": 2
}
