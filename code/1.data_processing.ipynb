{
 "cells": [
  {
   "cell_type": "code",
   "execution_count": 1,
   "metadata": {},
   "outputs": [],
   "source": [
    "import numpy as np\n",
    "import pandas as pd\n",
    "\n",
    "from scipy.stats import chi2_contingency,ttest_ind\n",
    "from scipy import stats\n",
    "from sklearn.model_selection import train_test_split, KFold\n",
    "from sklearn.metrics import auc, roc_curve\n",
    "import matplotlib.pyplot as plt\n",
    "import matplotlib\n",
    "matplotlib.rcParams['font.sans-serif'] = ['FangSong'] # 指定默认字体\n",
    "matplotlib.rcParams['axes.unicode_minus'] = False # 解决保存图像是负号'-'显示为方块的问题\n",
    "\n",
    "import statsmodels.api as sm\n",
    "from sklearn.linear_model import LogisticRegression\n",
    "from sklearn import svm\n",
    "from sklearn import ensemble\n",
    "\n",
    "data = pd.read_csv('C:/Users/Ca1/Desktop/papers/Nocturnal_hypertension by C/data.csv', encoding = 'gbk', index_col = 0)"
   ]
  },
  {
   "cell_type": "code",
   "execution_count": 2,
   "metadata": {
    "scrolled": false
   },
   "outputs": [],
   "source": [
    "dataplot = data[['Male','Age,y','BMI,kg/m2','Smoker','Alcohol intake','Diabetes mellitus','Hypertension','Hyperlipidemia'\n",
    ",'Hypertension family history','CVD history','Antihypertension drugs','RAAS drugs intake','nRAAS drugs intake'\n",
    ",'Proteinuria,mg/24h','Hemoglobin,g/L','BUN,mmol/L','Scr,mmol/L','Uric acid,mmol/L','FBG,mmol/L','Triglyceride,mmol/L'\n",
    ",'Cholesterol,mmol/L','HDL-C,mmol/L','LDL-C,mmol/L','Serum albumin,g/L','Serum sodium,mmol/L','Serum calcium,mmol/L'\n",
    ",'Serum phosphate,mmol/L','β2-MG,ug/mL','iPTH,pg/mL','Homocysteine,umol/L','eGFR,mL/ (min·1.73 m2)'\n",
    ",'Clinic SBP,mmHg','Clinic DBP,mmHg','nocturnal_hypertension']]\n",
    "\n",
    "dummy_col = [col for col in dataplot.columns if len(dataplot[col].unique()) < 5]\n",
    "float_col = [col for col in dataplot.columns if col not in dummy_col]\n",
    "\n",
    "# for col in float_col:\n",
    "#     f,ax=plt.subplots(1,2,figsize=(12,5)) \n",
    "#     ax[0].boxplot(x=dataplot.loc[dataplot[col].isnull() == False,col].values)\n",
    "#     ax[0].grid()\n",
    "#     bins = np.linspace(min(dataplot[col].values),max(dataplot[col].values),20)\n",
    "#     ax[1].hist(dataplot[col].values,bins)\n",
    "#     ax[1].grid()\n",
    "#     plt.xlabel(col,fontsize=15)\n",
    "#     fig = plt.gcf() \n",
    "#     plt.show()"
   ]
  },
  {
   "cell_type": "code",
   "execution_count": 3,
   "metadata": {
    "scrolled": true
   },
   "outputs": [],
   "source": [
    "dummy_col = [col for col in dataplot.columns if len(dataplot[col].unique()) < 5]\n",
    "float_col = [col for col in dataplot.columns if col not in dummy_col]\n",
    "for col in float_col:\n",
    "    data.loc[data[col]>data[col].mean()+3*data[col].std(),col] = np.nan\n",
    "data=data.fillna(data.mean())\n",
    "# data[float_col].describe()"
   ]
  },
  {
   "cell_type": "code",
   "execution_count": 4,
   "metadata": {},
   "outputs": [],
   "source": [
    "dataplot = data[['Male','Age,y','BMI,kg/m2','Smoker','Alcohol intake','Diabetes mellitus','Hypertension','Hyperlipidemia'\n",
    ",'Hypertension family history','CVD history','Antihypertension drugs','RAAS drugs intake','nRAAS drugs intake'\n",
    ",'Proteinuria,mg/24h','Hemoglobin,g/L','BUN,mmol/L','Scr,mmol/L','Uric acid,mmol/L','FBG,mmol/L','Triglyceride,mmol/L'\n",
    ",'Cholesterol,mmol/L','HDL-C,mmol/L','LDL-C,mmol/L','Serum albumin,g/L','Serum sodium,mmol/L','Serum calcium,mmol/L'\n",
    ",'Serum phosphate,mmol/L','β2-MG,ug/mL','iPTH,pg/mL','Homocysteine,umol/L','eGFR,mL/ (min·1.73 m2)'\n",
    ",'Clinic SBP,mmHg','Clinic DBP,mmHg','nocturnal_hypertension']]\n",
    "\n",
    "# dataplot.info()\n",
    "# dummy_col = [col for col in dataplot.columns if len(dataplot[col].unique()) < 5]\n",
    "# float_col = [col for col in dataplot.columns if col not in dummy_col]\n",
    "# for col in float_col:\n",
    "#     f,ax=plt.subplots(1,2,figsize=(12,5)) \n",
    "#     ax[0].boxplot(x=dataplot.loc[dataplot[col].isnull() == False,col].values)\n",
    "#     ax[0].grid()\n",
    "#     bins = np.linspace(min(dataplot[col].values),max(dataplot[col].values),20)\n",
    "#     ax[1].hist(dataplot[col].values,bins)\n",
    "#     ax[1].grid()\n",
    "#     plt.xlabel(col,fontsize=15)\n",
    "#     fig = plt.gcf()\n",
    "#     plt.show()"
   ]
  },
  {
   "cell_type": "code",
   "execution_count": 5,
   "metadata": {
    "scrolled": true
   },
   "outputs": [],
   "source": [
    "data.to_csv('C:/Users/Ca1/Desktop/papers/Nocturnal_hypertension by C//data_continuous_gbk_20201211.csv', encoding= 'gbk', index ='False')"
   ]
  }
 ],
 "metadata": {
  "kernelspec": {
   "display_name": "Python 3",
   "language": "python",
   "name": "python3"
  },
  "language_info": {
   "codemirror_mode": {
    "name": "ipython",
    "version": 3
   },
   "file_extension": ".py",
   "mimetype": "text/x-python",
   "name": "python",
   "nbconvert_exporter": "python",
   "pygments_lexer": "ipython3",
   "version": "3.6.5"
  }
 },
 "nbformat": 4,
 "nbformat_minor": 2
}
